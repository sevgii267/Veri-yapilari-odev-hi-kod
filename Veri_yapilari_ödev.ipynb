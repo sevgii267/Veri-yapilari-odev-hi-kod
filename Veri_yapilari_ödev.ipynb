{
 "cells": [
  {
   "cell_type": "markdown",
   "id": "032d81b2",
   "metadata": {},
   "source": [
    "# 1\n",
    "x = 3 ----> floata çevirelim. Çevirdikten sonra beri tipinide yazdıralım.\n",
    "\n",
    "y = 4.5 -----> integere çevirelim. Çevirdikten sonra beri tipinide yazdıralım.\n",
    "\n",
    "z = \"8\" -----> integera çevirelim. Çevirdikten sonra beri tipinide yazdıralım.\n",
    "\n",
    "a = \"12\" -----> floata çevirelim. Çevirdikten sonra beri tipinide yazdıralım.\n",
    "\n",
    "b = \"46.8\" ------> integera çevirelim. Çevirdikten sonra beri tipinide yazdıralım."
   ]
  },
  {
   "cell_type": "code",
   "execution_count": 4,
   "id": "f1b735c0",
   "metadata": {},
   "outputs": [
    {
     "data": {
      "text/plain": [
       "float"
      ]
     },
     "execution_count": 4,
     "metadata": {},
     "output_type": "execute_result"
    }
   ],
   "source": [
    "x=3\n",
    "x=float(x)\n",
    "type(x)"
   ]
  },
  {
   "cell_type": "code",
   "execution_count": 5,
   "id": "d5bcaf70-50e8-40bb-a24c-6c917d7cd6ab",
   "metadata": {},
   "outputs": [
    {
     "data": {
      "text/plain": [
       "int"
      ]
     },
     "execution_count": 5,
     "metadata": {},
     "output_type": "execute_result"
    }
   ],
   "source": [
    "y=4.5\n",
    "y=int(y)\n",
    "type(y)"
   ]
  },
  {
   "cell_type": "code",
   "execution_count": 6,
   "id": "c7180294-6e84-4c47-96b2-71329ff094bc",
   "metadata": {},
   "outputs": [
    {
     "data": {
      "text/plain": [
       "int"
      ]
     },
     "execution_count": 6,
     "metadata": {},
     "output_type": "execute_result"
    }
   ],
   "source": [
    "z=8\n",
    "z=int(z)\n",
    "type(z)"
   ]
  },
  {
   "cell_type": "code",
   "execution_count": 7,
   "id": "8f9b8734-d50a-4d3a-acd5-61c86c5535d8",
   "metadata": {},
   "outputs": [
    {
     "data": {
      "text/plain": [
       "float"
      ]
     },
     "execution_count": 7,
     "metadata": {},
     "output_type": "execute_result"
    }
   ],
   "source": [
    "a=12\n",
    "a=float(a)\n",
    "type(a)"
   ]
  },
  {
   "cell_type": "code",
   "execution_count": 8,
   "id": "6690d998-9304-42dd-a5f0-0fee8f0e426e",
   "metadata": {},
   "outputs": [
    {
     "data": {
      "text/plain": [
       "int"
      ]
     },
     "execution_count": 8,
     "metadata": {},
     "output_type": "execute_result"
    }
   ],
   "source": [
    "b=46.8\n",
    "b=int(b)\n",
    "type(b)"
   ]
  },
  {
   "cell_type": "markdown",
   "id": "95509718",
   "metadata": {},
   "source": [
    "# 2 \n",
    "İsimlerden oluşan üç değişkene yaş değerleri atanır. Belirlenen üç değişken birbiriyle karşılaştırma operatörleri ile karşılaştırılır. Bu karşılaştırmalara mantıksal operatörler de eklenir."
   ]
  },
  {
   "cell_type": "code",
   "execution_count": 30,
   "id": "50f77b4f",
   "metadata": {},
   "outputs": [],
   "source": [
    "ada=22\n",
    "ege=24\n",
    "ece=22"
   ]
  },
  {
   "cell_type": "code",
   "execution_count": 31,
   "id": "9df1b1ae-c878-4d02-9e00-9aa92459cec9",
   "metadata": {},
   "outputs": [
    {
     "data": {
      "text/plain": [
       "False"
      ]
     },
     "execution_count": 31,
     "metadata": {},
     "output_type": "execute_result"
    }
   ],
   "source": [
    "ece > ada"
   ]
  },
  {
   "cell_type": "code",
   "execution_count": 32,
   "id": "9aa3e08f-c4db-4515-ace1-d5ecffcb5ba6",
   "metadata": {},
   "outputs": [
    {
     "data": {
      "text/plain": [
       "False"
      ]
     },
     "execution_count": 32,
     "metadata": {},
     "output_type": "execute_result"
    }
   ],
   "source": [
    "ege < ece"
   ]
  },
  {
   "cell_type": "code",
   "execution_count": 33,
   "id": "99b18afd-a268-4ae6-9da3-98df025763fd",
   "metadata": {},
   "outputs": [
    {
     "data": {
      "text/plain": [
       "True"
      ]
     },
     "execution_count": 33,
     "metadata": {},
     "output_type": "execute_result"
    }
   ],
   "source": [
    "ada == ece"
   ]
  },
  {
   "cell_type": "code",
   "execution_count": 34,
   "id": "7f29626f-e8d5-415e-afbb-d5865e262d4f",
   "metadata": {},
   "outputs": [
    {
     "data": {
      "text/plain": [
       "False"
      ]
     },
     "execution_count": 34,
     "metadata": {},
     "output_type": "execute_result"
    }
   ],
   "source": [
    "ada<ece and ege<ece"
   ]
  },
  {
   "cell_type": "code",
   "execution_count": 35,
   "id": "6cf2b481-51fd-4590-bc85-624ef686667b",
   "metadata": {},
   "outputs": [
    {
     "data": {
      "text/plain": [
       "False"
      ]
     },
     "execution_count": 35,
     "metadata": {},
     "output_type": "execute_result"
    }
   ],
   "source": [
    "ada<ece and ege>ece"
   ]
  },
  {
   "cell_type": "code",
   "execution_count": 36,
   "id": "8248b691-2649-42b3-b5ed-654db64ba622",
   "metadata": {},
   "outputs": [
    {
     "data": {
      "text/plain": [
       "True"
      ]
     },
     "execution_count": 36,
     "metadata": {},
     "output_type": "execute_result"
    }
   ],
   "source": [
    "ada==ece and ege>ece"
   ]
  },
  {
   "cell_type": "code",
   "execution_count": 37,
   "id": "f2205493-71a7-4ce1-bb16-0235b04a9d09",
   "metadata": {},
   "outputs": [
    {
     "data": {
      "text/plain": [
       "True"
      ]
     },
     "execution_count": 37,
     "metadata": {},
     "output_type": "execute_result"
    }
   ],
   "source": [
    "ada<ege or ece>ege"
   ]
  },
  {
   "cell_type": "code",
   "execution_count": 38,
   "id": "249d1fa5-e4ca-4a30-b0f0-8c3d8110e7c8",
   "metadata": {},
   "outputs": [
    {
     "data": {
      "text/plain": [
       "False"
      ]
     },
     "execution_count": 38,
     "metadata": {},
     "output_type": "execute_result"
    }
   ],
   "source": [
    "ege<ada or ece<ada"
   ]
  },
  {
   "cell_type": "code",
   "execution_count": 40,
   "id": "6629267a-253a-40c0-9a47-ca20a8a0d2c8",
   "metadata": {},
   "outputs": [
    {
     "data": {
      "text/plain": [
       "True"
      ]
     },
     "execution_count": 40,
     "metadata": {},
     "output_type": "execute_result"
    }
   ],
   "source": [
    "not(ada>ece)"
   ]
  },
  {
   "cell_type": "markdown",
   "id": "f31a0591-59b1-405e-9bbb-136926ecfe9b",
   "metadata": {},
   "source": [
    "# 3\n",
    "Kullanıcıdan iki değer girmesini istenir. Girilen değerlerin toplama, çıkarma, çarpma, bölme sonuçlarını yazdırılır."
   ]
  },
  {
   "cell_type": "code",
   "execution_count": 41,
   "id": "c361e45a",
   "metadata": {
    "scrolled": true
   },
   "outputs": [
    {
     "name": "stdout",
     "output_type": "stream",
     "text": [
      "Sırasıyla iki sayı giriniz \n"
     ]
    },
    {
     "name": "stdin",
     "output_type": "stream",
     "text": [
      "İlk sayıyı giriniz:  8\n",
      "İkinci sayıyı giriniz:  4\n"
     ]
    },
    {
     "name": "stdout",
     "output_type": "stream",
     "text": [
      "Toplama : 12\n",
      "Çıkarma : 4\n",
      "Çarpma : 32\n",
      "Bölme : 2.0\n"
     ]
    }
   ],
   "source": [
    "print(\"Sırasıyla iki sayı giriniz \")\n",
    "\n",
    "x=int(input(\"İlk sayıyı giriniz: \"))\n",
    "y=int(input(\"İkinci sayıyı giriniz: \"))\n",
    "\n",
    "print(\"Toplama :\", x+y)\n",
    "print(\"Çıkarma :\", x-y)\n",
    "print(\"Çarpma :\", x*y)\n",
    "print(\"Bölme :\", x/y)"
   ]
  },
  {
   "cell_type": "markdown",
   "id": "060b0bea",
   "metadata": {},
   "source": [
    "# 4\n",
    "Kullanıcıdan isim, yaş, şehir ve meslek bilgilerini istenir ve cevaplarını yazdırılır."
   ]
  },
  {
   "cell_type": "code",
   "execution_count": 52,
   "id": "6f5dea59",
   "metadata": {},
   "outputs": [
    {
     "name": "stdin",
     "output_type": "stream",
     "text": [
      "İsminizi giriniz:  ayse\n",
      "Yaşınızı giriniz:  23\n",
      "Yaşadığınız şehri giriniz:  ist\n",
      "Mesleğinizi giriniz:  öğrenci\n"
     ]
    },
    {
     "name": "stdout",
     "output_type": "stream",
     "text": [
      "İsim: ayse\n",
      "Yaş: 23\n",
      "Şehir: ist\n",
      "Meslek: öğrenci\n"
     ]
    }
   ],
   "source": [
    "isim=input(\"İsminizi giriniz: \")\n",
    "yas=input(\"Yaşınızı giriniz: \")\n",
    "sehir=input(\"Yaşadığınız şehri giriniz: \")\n",
    "meslek=input(\"Mesleğinizi giriniz: \")\n",
    "\n",
    "print(\"İsim:\", isim)\n",
    "print(\"Yaş:\", yas)\n",
    "print(\"Şehir:\", sehir)\n",
    "print(\"Meslek:\", meslek)\n"
   ]
  },
  {
   "cell_type": "markdown",
   "id": "55e1a34e",
   "metadata": {},
   "source": [
    "# 5\n",
    "\"Hi-Kod Veri Bilimi Atölyesi\" ifadesini bir değişkene tanımlanır.\n",
    "\n",
    "\n",
    " 1. İfadedeki her bir kelimeyi (\"Hi-Kod\", \"Veri\", \"Bilimi\", \"Atölyesi\") değişken içinden seçilir. \n",
    " 2. İfadeyi hepsini büyük harf olacak hale çevrilir. (\"HI-KOD VERİ BİLİMİ ATÖLYESİ\") \n",
    " 3. İfadeyi hepsini büyük harf olacak hale çevrilir.(\"hi-kod veri bilimi atölyesi\") \n",
    "\n",
    "\"0123456789\" ifadesindeki yalnızca çift sayıları ve yalnızca tek sayıları seçilir. (\"02468\", \"13579\")"
   ]
  },
  {
   "cell_type": "code",
   "execution_count": 44,
   "id": "0fc1bc40",
   "metadata": {},
   "outputs": [],
   "source": [
    "kelime= \"Hi-Kod Veri Bilimi Atölyesi\""
   ]
  },
  {
   "cell_type": "code",
   "execution_count": 45,
   "id": "5049e870-490d-472d-9f97-1bb31a60646b",
   "metadata": {},
   "outputs": [
    {
     "name": "stdout",
     "output_type": "stream",
     "text": [
      "Hi-Kod\n"
     ]
    }
   ],
   "source": [
    "print(kelime[0:6])"
   ]
  },
  {
   "cell_type": "code",
   "execution_count": 46,
   "id": "0f56d770-a52d-4965-9ecd-6e06b29ce3ce",
   "metadata": {},
   "outputs": [
    {
     "name": "stdout",
     "output_type": "stream",
     "text": [
      "Veri\n"
     ]
    }
   ],
   "source": [
    "print(kelime[7:11])"
   ]
  },
  {
   "cell_type": "code",
   "execution_count": 47,
   "id": "78dbce4b-4e0f-4904-8878-61db980992a9",
   "metadata": {},
   "outputs": [
    {
     "name": "stdout",
     "output_type": "stream",
     "text": [
      "Bilimi\n"
     ]
    }
   ],
   "source": [
    "print(kelime[12:18])"
   ]
  },
  {
   "cell_type": "code",
   "execution_count": 49,
   "id": "af91134c-fa5e-462d-950e-bb81e3e04325",
   "metadata": {},
   "outputs": [
    {
     "name": "stdout",
     "output_type": "stream",
     "text": [
      "Atölyesi\n"
     ]
    }
   ],
   "source": [
    "print(kelime[19:27])"
   ]
  },
  {
   "cell_type": "code",
   "execution_count": 50,
   "id": "2ca299d7-7eed-459f-bd83-904ee92cd62c",
   "metadata": {},
   "outputs": [
    {
     "data": {
      "text/plain": [
       "'HI-KOD VERI BILIMI ATÖLYESI'"
      ]
     },
     "execution_count": 50,
     "metadata": {},
     "output_type": "execute_result"
    }
   ],
   "source": [
    "kelime.upper()"
   ]
  },
  {
   "cell_type": "code",
   "execution_count": 51,
   "id": "0bcb4f31-a202-450e-8906-daf9df2fc816",
   "metadata": {},
   "outputs": [
    {
     "data": {
      "text/plain": [
       "'hi-kod veri bilimi atölyesi'"
      ]
     },
     "execution_count": 51,
     "metadata": {},
     "output_type": "execute_result"
    }
   ],
   "source": [
    "kelime.lower()"
   ]
  },
  {
   "cell_type": "code",
   "execution_count": 55,
   "id": "8f80034a-607e-4379-b792-2258e094f3be",
   "metadata": {},
   "outputs": [],
   "source": [
    "sayi= \"0123456789\"\n"
   ]
  },
  {
   "cell_type": "code",
   "execution_count": 56,
   "id": "79d96a71-8235-4e63-8895-2a1bba6b243b",
   "metadata": {},
   "outputs": [
    {
     "data": {
      "text/plain": [
       "'02468'"
      ]
     },
     "execution_count": 56,
     "metadata": {},
     "output_type": "execute_result"
    }
   ],
   "source": [
    "sayi[::2]"
   ]
  },
  {
   "cell_type": "code",
   "execution_count": 54,
   "id": "3600459b-1c81-46a0-abe6-f72d28575160",
   "metadata": {},
   "outputs": [
    {
     "data": {
      "text/plain": [
       "'13579'"
      ]
     },
     "execution_count": 54,
     "metadata": {},
     "output_type": "execute_result"
    }
   ],
   "source": [
    "sayi[1::2]"
   ]
  }
 ],
 "metadata": {
  "kernelspec": {
   "display_name": "Python 3 (ipykernel)",
   "language": "python",
   "name": "python3"
  },
  "language_info": {
   "codemirror_mode": {
    "name": "ipython",
    "version": 3
   },
   "file_extension": ".py",
   "mimetype": "text/x-python",
   "name": "python",
   "nbconvert_exporter": "python",
   "pygments_lexer": "ipython3",
   "version": "3.11.5"
  }
 },
 "nbformat": 4,
 "nbformat_minor": 5
}
